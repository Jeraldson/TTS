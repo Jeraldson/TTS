{
  "nbformat": 4,
  "nbformat_minor": 0,
  "metadata": {
    "colab": {
      "name": "TTS_example.ipynb",
      "provenance": [],
      "collapsed_sections": [
        "cjD0xW0cEMVT"
      ],
      "include_colab_link": true
    },
    "kernelspec": {
      "name": "python3",
      "display_name": "Python 3"
    },
    "accelerator": "GPU"
  },
  "cells": [
    {
      "cell_type": "markdown",
      "metadata": {
        "id": "view-in-github",
        "colab_type": "text"
      },
      "source": [
        "<a href=\"https://colab.research.google.com/github/Jeraldson/TTS/blob/master/TTS_example.ipynb\" target=\"_parent\"><img src=\"https://colab.research.google.com/assets/colab-badge.svg\" alt=\"Open In Colab\"/></a>"
      ]
    },
    {
      "cell_type": "markdown",
      "metadata": {
        "id": "cjD0xW0cEMVT",
        "colab_type": "text"
      },
      "source": [
        "## Hands-on example for TTS  [https://github.com/Jeraldson/TTS](https://github.com/mozilla/TTS)\n",
        " \n",
        "This notebook trains Tacotron model on Menka speech dataset."
      ]
    },
    {
      "cell_type": "code",
      "metadata": {
        "colab_type": "code",
        "id": "XGiNTMShZYvj",
        "colab": {}
      },
      "source": [
        "# download LJSpeech dataset\n",
        "!wget https://drive.google.com/file/d/13DN1rybgJRVOLMKbSe0LSTEEBzQySQVe/view?usp=drivesdk\n",
        "# decompress\n",
        "!unzip menka1.0.zip -d"
      ],
      "execution_count": null,
      "outputs": []
    },
    {
      "cell_type": "code",
      "metadata": {
        "id": "__k0BrbfLQ-F",
        "colab_type": "code",
        "colab": {}
      },
      "source": [
        "# create train-val splits\n",
        "!shuf menka1.0/metadata.csv > menka1.0/metadata_shuf.csv\n",
        "!head -n 600 menka1.0/metadata_shuf.csv > menka1.0/metadata_train.csv\n",
        "!tail -n 140 menka1.0/metadata_shuf.csv > menka1.0/metadata_val.csv"
      ],
      "execution_count": null,
      "outputs": []
    },
    {
      "cell_type": "code",
      "metadata": {
        "id": "pyJwcU9pDUE-",
        "colab_type": "code",
        "colab": {}
      },
      "source": [
        "# get TTS to your local\n",
        "!git clone https://github.com/Jeraldson/TTS"
      ],
      "execution_count": null,
      "outputs": []
    },
    {
      "cell_type": "code",
      "metadata": {
        "id": "zV-vHTWyirQv",
        "colab_type": "code",
        "colab": {}
      },
      "source": [
        "# install espeak backend if you like to use phonemes instead of raw characters\n",
        "!sudo apt-get install espeak\n",
        "!pip install soundfile"
      ],
      "execution_count": null,
      "outputs": []
    },
    {
      "cell_type": "code",
      "metadata": {
        "id": "xwvg3-nVDL5t",
        "colab_type": "code",
        "colab": {}
      },
      "source": [
        "%cd TTS\n",
        "# install TTS requirements\n",
        "!python setup.py install"
      ],
      "execution_count": null,
      "outputs": []
    },
    {
      "cell_type": "code",
      "metadata": {
        "id": "y7_Xao7uNOvX",
        "colab_type": "code",
        "colab": {}
      },
      "source": [
        "import json\n",
        "from utils.io import load_config\n",
        "CONFIG = load_config('config.json')\n",
        "CONFIG['datasets'][0]['path'] = '../menka1.0/'\n",
        "CONFIG['output_path'] = '../'\n",
        "with open('config.json', 'w') as fp:\n",
        "    json.dump(CONFIG, fp)"
      ],
      "execution_count": null,
      "outputs": []
    },
    {
      "cell_type": "code",
      "metadata": {
        "id": "8L3JjJOBErxq",
        "colab_type": "code",
        "colab": {}
      },
      "source": [
        "# pull the trigger\n",
        "!python train.py --config_path config.json | tee training.log"
      ],
      "execution_count": null,
      "outputs": []
    },
    {
      "cell_type": "code",
      "metadata": {
        "id": "7VzVposWmUHz",
        "colab_type": "code",
        "colab": {}
      },
      "source": [
        ""
      ],
      "execution_count": null,
      "outputs": []
    }
  ]
}